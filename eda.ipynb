{
  "nbformat": 4,
  "nbformat_minor": 0,
  "metadata": {
    "colab": {
      "name": "eda.ipynb",
      "version": "0.3.2",
      "provenance": [],
      "collapsed_sections": []
    },
    "kernelspec": {
      "name": "python3",
      "display_name": "Python 3"
    }
  },
  "cells": [
    {
      "metadata": {
        "id": "g6QRO1xZrBrl",
        "colab_type": "code",
        "colab": {}
      },
      "cell_type": "code",
      "source": [
        "###################Exploratory Data Analysis######################################################\n",
        "\n",
        "#load the modules\n",
        "import os, sys\n",
        "import pandas as pd\n",
        "import pprint\n",
        "\n",
        "#load training labels\n",
        "df = pd.read_csv('/gdrive/My Drive/Brainwaves/train_labels.csv')\n",
        "\n",
        "#explore data and datatypes\n",
        "print(df.info())\n",
        "print(df.describe())\n",
        "\n",
        "#######Ouput fields of single label and multilabel ml classifiers\n",
        "\n",
        "#single label classifier target fields\n",
        "obtainColumns=[\n",
        "       'TC_currency',\n",
        "       'TC_Bespoke',\n",
        "       'calulation_agent', \n",
        "       'CA_dispute_resolution ',\n",
        "       'RD_method_party_A',\n",
        "       'RD_party_A_moody_short_term_trigger_method',\n",
        "       'RD_party_A_moody_short_term_threshold',\n",
        "       'RD_party_A_SnP_short_term_trigger_method',\n",
        "       'RD_party_A_SnP_short_term_threshold',\n",
        "       'RD_party_A_Fitch_short_term_trigger_method',\n",
        "       'RD_party_A_Fitch_short_term_threshold',\n",
        "       'RD_party_A_moody_long_term_trigger_method',\n",
        "       'RD_party_A_moody_long_term_threshold',\n",
        "       'RD_party_A_SnP_long_term_trigger_method',\n",
        "       'RD_party_A_SnP_long_term_threshold',\n",
        "       'RD_party_A_Fitch_long_term_trigger_method',\n",
        "       'RD_party_A_Fitch_long_term_threshold', \n",
        "]\n",
        "\n",
        "#multilabel classifier target fields\n",
        "mlColumns = [\n",
        "      'CA_fallback_default_dispute',\n",
        "      'RD_party_A_short_term_debt_classification',\n",
        "      'RD_party_A_long_term_debt_classification',\n",
        "      'Cross_default_threshold_type',\n",
        "      'Cross_default_measure',\n",
        "      'governing law',\n",
        "      'Cross_default_percentage/amount'\n",
        "]\n",
        "\n"
      ],
      "execution_count": 0,
      "outputs": []
    },
    {
      "metadata": {
        "id": "ydO1pivvrf0b",
        "colab_type": "code",
        "colab": {}
      },
      "cell_type": "code",
      "source": [
        "#Save training labels as a csv file\n",
        "dfTemp = df[['File_Name']+obtainColumns+mlColumns]\n",
        "dfTemp.to_csv('/gdrive/My Drive/Brainwaves/richFeatures.csv')"
      ],
      "execution_count": 0,
      "outputs": []
    }
  ]
}