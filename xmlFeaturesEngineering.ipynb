{
  "nbformat": 4,
  "nbformat_minor": 0,
  "metadata": {
    "colab": {
      "name": "xmlFeatures.ipynb",
      "version": "0.3.2",
      "provenance": [],
      "collapsed_sections": []
    },
    "kernelspec": {
      "name": "python3",
      "display_name": "Python 3"
    }
  },
  "cells": [
    {
      "metadata": {
        "id": "d_v3bxB7324D",
        "colab_type": "code",
        "colab": {}
      },
      "cell_type": "code",
      "source": [
        "#############Engineering the xml features\n",
        "\n",
        "import os, sys\n",
        "import re\n",
        "\n",
        "#xml files directory\n",
        "dirPath='/home/nagabhushan/Desktop/SocGen/ML/data/'\n",
        "\n",
        "\n",
        "#fileName to clean xml text mapping\n",
        "xmlText = {}\n",
        "\n",
        "for file in os.listdir(dirPath):\n",
        "    if file.endswith('.xml'):\n",
        "            fileObj = open(os.path.join(dirPath, file))\n",
        "            allText = fileObj.read()\n",
        "            itts = re.finditer(r'>[^<>]*<', allText)\n",
        "            meaningText = ''\n",
        "            for itt in itts:\n",
        "                extract= itt.group(0).strip()[1:-1]\n",
        "                if extract.strip()!='':\n",
        "                    meaningText+=extract+\". \"\n",
        "\n",
        "            xmlText[file.split('.')[0].lower()] = meaningText\n",
        "\n",
        "\n",
        "            \n",
        "#saving unclean xml data for later use \n",
        "import pickle\n",
        "pickle.dump(xmlText, open('xmlText.pk', 'wb'))\n"
      ],
      "execution_count": 0,
      "outputs": []
    },
    {
      "metadata": {
        "id": "WqayYzJT4vgr",
        "colab_type": "code",
        "colab": {}
      },
      "cell_type": "code",
      "source": [
        "##########################Cleaning XML text#######################################################\n",
        "\n",
        "def cleanText(text):\n",
        "  # split into words\n",
        "  from nltk.tokenize import word_tokenize\n",
        "  tokens = word_tokenize(text)\n",
        "  \n",
        "  # convert to lower case\n",
        "  tokens = [w.lower() for w in tokens]\n",
        "  \n",
        "  # remove punctuation from each word\n",
        "  import string\n",
        "  table = str.maketrans('', '', string.punctuation)\n",
        "  stripped = [w.translate(table) for w in tokens]\n",
        "  \n",
        "  # remove remaining tokens that are not alphabetic\n",
        "  words = [word for word in stripped if word.isalpha()]\n",
        "  \n",
        "  # filter out stop words\n",
        "  from nltk.corpus import stopwords\n",
        "  stop_words = set(stopwords.words('english'))\n",
        "  words = [w for w in words if not w in stop_words]\n",
        " \n",
        "  return ' '.join(stripped)"
      ],
      "execution_count": 0,
      "outputs": []
    },
    {
      "metadata": {
        "id": "Ry7arYzW5HX6",
        "colab_type": "code",
        "colab": {}
      },
      "cell_type": "code",
      "source": [
        "import os, sys\n",
        "import re\n",
        "import pickle\n",
        "import pandas as pd\n",
        "import numpy as np\n",
        "from sklearn.pipeline import Pipeline\n",
        "from sklearn.tree import *\n",
        "from sklearn.ensemble import *\n",
        "from sklearn.linear_model import *\n",
        "from sklearn.feature_extraction.text import *\n",
        "from sklearn.model_selection import *\n",
        "from lightgbm import LGBMClassifier\n",
        "import numpy as np\n",
        "\n",
        "#load saved unclean xml data\n",
        "xmlText = pickle.load(open('/gdrive/My Drive/Brainwaves/xmlText.pk', 'rb'))\n",
        "xmlTextTest = pickle.load(open('/gdrive/My Drive/Brainwaves/xmlTextTest.pk', 'rb'))\n",
        "\n",
        "#clean xml text\n",
        "for fid in xmlText.keys():\n",
        "  xmlText[fid] = cleanText(xmlText[fid])\n",
        "  \n",
        "for fid in xmlTextTest.keys():\n",
        "  xmlTextTest[fid] = cleanText(xmlTextTest[fid])\n"
      ],
      "execution_count": 0,
      "outputs": []
    },
    {
      "metadata": {
        "id": "VJyqSbd75Zne",
        "colab_type": "code",
        "colab": {}
      },
      "cell_type": "code",
      "source": [
        "#save clean xml text for training ml models\n",
        "pickle.dump(xmlText, open('/gdrive/My Drive/Brainwaves/xmlTextClean.pk', 'wb'))\n",
        "pickle.dump(xmlTextTest, open('/gdrive/My Drive/Brainwaves/xmlTextTestClean.pk', 'wb'))"
      ],
      "execution_count": 0,
      "outputs": []
    }
  ]
}